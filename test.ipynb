{
 "cells": [
  {
   "cell_type": "code",
   "execution_count": 1,
   "metadata": {},
   "outputs": [],
   "source": [
    "import pandas as pd\n",
    "import os\n",
    "import numpy as np\n",
    "import plotly.express as px"
   ]
  },
  {
   "cell_type": "code",
   "execution_count": 50,
   "metadata": {},
   "outputs": [],
   "source": [
    "rsk_assmnt = pd.read_csv('risk_assessment.csv', encoding = 'euc-kr')"
   ]
  },
  {
   "cell_type": "code",
   "execution_count": 51,
   "metadata": {},
   "outputs": [
    {
     "data": {
      "text/html": [
       "<div>\n",
       "<style scoped>\n",
       "    .dataframe tbody tr th:only-of-type {\n",
       "        vertical-align: middle;\n",
       "    }\n",
       "\n",
       "    .dataframe tbody tr th {\n",
       "        vertical-align: top;\n",
       "    }\n",
       "\n",
       "    .dataframe thead th {\n",
       "        text-align: right;\n",
       "    }\n",
       "</style>\n",
       "<table border=\"1\" class=\"dataframe\">\n",
       "  <thead>\n",
       "    <tr style=\"text-align: right;\">\n",
       "      <th></th>\n",
       "      <th>no</th>\n",
       "      <th>engagement</th>\n",
       "      <th>LoB</th>\n",
       "      <th>rsk_idx_1</th>\n",
       "      <th>rsk_idx_2</th>\n",
       "      <th>rsk_idx_3</th>\n",
       "      <th>risk_index</th>\n",
       "    </tr>\n",
       "  </thead>\n",
       "  <tbody>\n",
       "    <tr>\n",
       "      <th>0</th>\n",
       "      <td>1</td>\n",
       "      <td>BGF리테일</td>\n",
       "      <td>CM2</td>\n",
       "      <td>1 감리위험요소평가</td>\n",
       "      <td>4 한계기업</td>\n",
       "      <td>코스닥 영업손실</td>\n",
       "      <td>0</td>\n",
       "    </tr>\n",
       "    <tr>\n",
       "      <th>1</th>\n",
       "      <td>1</td>\n",
       "      <td>BGF리테일</td>\n",
       "      <td>CM2</td>\n",
       "      <td>1 감리위험요소평가</td>\n",
       "      <td>1 표본심사</td>\n",
       "      <td>당기손익과 영업 CF 괴리(과거1년)</td>\n",
       "      <td>0</td>\n",
       "    </tr>\n",
       "    <tr>\n",
       "      <th>2</th>\n",
       "      <td>1</td>\n",
       "      <td>BGF리테일</td>\n",
       "      <td>CM2</td>\n",
       "      <td>1 감리위험요소평가</td>\n",
       "      <td>1 표본심사</td>\n",
       "      <td>당기손익과 영업 CF 괴리(과거2년연속)</td>\n",
       "      <td>0</td>\n",
       "    </tr>\n",
       "    <tr>\n",
       "      <th>3</th>\n",
       "      <td>1</td>\n",
       "      <td>BGF리테일</td>\n",
       "      <td>CM2</td>\n",
       "      <td>1 감리위험요소평가</td>\n",
       "      <td>1 표본심사</td>\n",
       "      <td>영업손익과 영업 CF 괴리(과거1년)</td>\n",
       "      <td>0</td>\n",
       "    </tr>\n",
       "    <tr>\n",
       "      <th>4</th>\n",
       "      <td>1</td>\n",
       "      <td>BGF리테일</td>\n",
       "      <td>CM2</td>\n",
       "      <td>1 감리위험요소평가</td>\n",
       "      <td>1 표본심사</td>\n",
       "      <td>영업손익과 영업 CF 괴리(과거2년연속)</td>\n",
       "      <td>0</td>\n",
       "    </tr>\n",
       "    <tr>\n",
       "      <th>...</th>\n",
       "      <td>...</td>\n",
       "      <td>...</td>\n",
       "      <td>...</td>\n",
       "      <td>...</td>\n",
       "      <td>...</td>\n",
       "      <td>...</td>\n",
       "      <td>...</td>\n",
       "    </tr>\n",
       "    <tr>\n",
       "      <th>695</th>\n",
       "      <td>50</td>\n",
       "      <td>현대중공업</td>\n",
       "      <td>IM1</td>\n",
       "      <td>1 감리위험요소평가</td>\n",
       "      <td>2 직권지정</td>\n",
       "      <td>부의 영업현금흐름</td>\n",
       "      <td>0</td>\n",
       "    </tr>\n",
       "    <tr>\n",
       "      <th>696</th>\n",
       "      <td>50</td>\n",
       "      <td>현대중공업</td>\n",
       "      <td>IM1</td>\n",
       "      <td>1 감리위험요소평가</td>\n",
       "      <td>3 관리종목</td>\n",
       "      <td>매출액기준</td>\n",
       "      <td>1</td>\n",
       "    </tr>\n",
       "    <tr>\n",
       "      <th>697</th>\n",
       "      <td>50</td>\n",
       "      <td>현대중공업</td>\n",
       "      <td>IM1</td>\n",
       "      <td>2 감사인 감리 대상 개별감사업무 선정</td>\n",
       "      <td>1 개별감사업무 선정</td>\n",
       "      <td>재무비율</td>\n",
       "      <td>1</td>\n",
       "    </tr>\n",
       "    <tr>\n",
       "      <th>698</th>\n",
       "      <td>50</td>\n",
       "      <td>현대중공업</td>\n",
       "      <td>IM1</td>\n",
       "      <td>2 감사인 감리 대상 개별감사업무 선정</td>\n",
       "      <td>1 개별감사업무 선정</td>\n",
       "      <td>영업이익율, 순이익율 ()</td>\n",
       "      <td>1</td>\n",
       "    </tr>\n",
       "    <tr>\n",
       "      <th>699</th>\n",
       "      <td>50</td>\n",
       "      <td>현대중공업</td>\n",
       "      <td>IM1</td>\n",
       "      <td>2 감사인 감리 대상 개별감사업무 선정</td>\n",
       "      <td>1 개별감사업무 선정</td>\n",
       "      <td>비상장&amp;자산 2조원 이상</td>\n",
       "      <td>0</td>\n",
       "    </tr>\n",
       "  </tbody>\n",
       "</table>\n",
       "<p>700 rows × 7 columns</p>\n",
       "</div>"
      ],
      "text/plain": [
       "     no engagement  LoB              rsk_idx_1    rsk_idx_2  \\\n",
       "0     1     BGF리테일  CM2             1 감리위험요소평가       4 한계기업   \n",
       "1     1     BGF리테일  CM2             1 감리위험요소평가       1 표본심사   \n",
       "2     1     BGF리테일  CM2             1 감리위험요소평가       1 표본심사   \n",
       "3     1     BGF리테일  CM2             1 감리위험요소평가       1 표본심사   \n",
       "4     1     BGF리테일  CM2             1 감리위험요소평가       1 표본심사   \n",
       "..   ..        ...  ...                    ...          ...   \n",
       "695  50      현대중공업  IM1             1 감리위험요소평가       2 직권지정   \n",
       "696  50      현대중공업  IM1             1 감리위험요소평가       3 관리종목   \n",
       "697  50      현대중공업  IM1  2 감사인 감리 대상 개별감사업무 선정  1 개별감사업무 선정   \n",
       "698  50      현대중공업  IM1  2 감사인 감리 대상 개별감사업무 선정  1 개별감사업무 선정   \n",
       "699  50      현대중공업  IM1  2 감사인 감리 대상 개별감사업무 선정  1 개별감사업무 선정   \n",
       "\n",
       "                  rsk_idx_3  risk_index  \n",
       "0                  코스닥 영업손실           0  \n",
       "1      당기손익과 영업 CF 괴리(과거1년)           0  \n",
       "2    당기손익과 영업 CF 괴리(과거2년연속)           0  \n",
       "3      영업손익과 영업 CF 괴리(과거1년)           0  \n",
       "4    영업손익과 영업 CF 괴리(과거2년연속)           0  \n",
       "..                      ...         ...  \n",
       "695               부의 영업현금흐름           0  \n",
       "696                   매출액기준           1  \n",
       "697                    재무비율           1  \n",
       "698          영업이익율, 순이익율 ()           1  \n",
       "699           비상장&자산 2조원 이상           0  \n",
       "\n",
       "[700 rows x 7 columns]"
      ]
     },
     "execution_count": 51,
     "metadata": {},
     "output_type": "execute_result"
    }
   ],
   "source": [
    "rsk_assmnt"
   ]
  },
  {
   "cell_type": "code",
   "execution_count": 52,
   "metadata": {},
   "outputs": [
    {
     "data": {
      "text/html": [
       "<div>\n",
       "<style scoped>\n",
       "    .dataframe tbody tr th:only-of-type {\n",
       "        vertical-align: middle;\n",
       "    }\n",
       "\n",
       "    .dataframe tbody tr th {\n",
       "        vertical-align: top;\n",
       "    }\n",
       "\n",
       "    .dataframe thead th {\n",
       "        text-align: right;\n",
       "    }\n",
       "</style>\n",
       "<table border=\"1\" class=\"dataframe\">\n",
       "  <thead>\n",
       "    <tr style=\"text-align: right;\">\n",
       "      <th></th>\n",
       "      <th>engagement</th>\n",
       "      <th>LoB</th>\n",
       "      <th>rsk_idx_1</th>\n",
       "      <th>risk_index</th>\n",
       "    </tr>\n",
       "  </thead>\n",
       "  <tbody>\n",
       "    <tr>\n",
       "      <th>0</th>\n",
       "      <td>BGF리테일</td>\n",
       "      <td>CM2</td>\n",
       "      <td>1 감리위험요소평가</td>\n",
       "      <td>0</td>\n",
       "    </tr>\n",
       "    <tr>\n",
       "      <th>1</th>\n",
       "      <td>BGF리테일</td>\n",
       "      <td>CM2</td>\n",
       "      <td>2 감사인 감리 대상 개별감사업무 선정</td>\n",
       "      <td>1</td>\n",
       "    </tr>\n",
       "    <tr>\n",
       "      <th>2</th>\n",
       "      <td>CJ CGV</td>\n",
       "      <td>ICE2</td>\n",
       "      <td>1 감리위험요소평가</td>\n",
       "      <td>4</td>\n",
       "    </tr>\n",
       "    <tr>\n",
       "      <th>3</th>\n",
       "      <td>CJ CGV</td>\n",
       "      <td>ICE2</td>\n",
       "      <td>2 감사인 감리 대상 개별감사업무 선정</td>\n",
       "      <td>2</td>\n",
       "    </tr>\n",
       "    <tr>\n",
       "      <th>4</th>\n",
       "      <td>HD현대</td>\n",
       "      <td>IM1</td>\n",
       "      <td>1 감리위험요소평가</td>\n",
       "      <td>1</td>\n",
       "    </tr>\n",
       "    <tr>\n",
       "      <th>...</th>\n",
       "      <td>...</td>\n",
       "      <td>...</td>\n",
       "      <td>...</td>\n",
       "      <td>...</td>\n",
       "    </tr>\n",
       "    <tr>\n",
       "      <th>95</th>\n",
       "      <td>한진</td>\n",
       "      <td>IM3</td>\n",
       "      <td>2 감사인 감리 대상 개별감사업무 선정</td>\n",
       "      <td>0</td>\n",
       "    </tr>\n",
       "    <tr>\n",
       "      <th>96</th>\n",
       "      <td>한화솔루션</td>\n",
       "      <td>IM1</td>\n",
       "      <td>1 감리위험요소평가</td>\n",
       "      <td>1</td>\n",
       "    </tr>\n",
       "    <tr>\n",
       "      <th>97</th>\n",
       "      <td>한화솔루션</td>\n",
       "      <td>IM1</td>\n",
       "      <td>2 감사인 감리 대상 개별감사업무 선정</td>\n",
       "      <td>0</td>\n",
       "    </tr>\n",
       "    <tr>\n",
       "      <th>98</th>\n",
       "      <td>현대중공업</td>\n",
       "      <td>IM1</td>\n",
       "      <td>1 감리위험요소평가</td>\n",
       "      <td>3</td>\n",
       "    </tr>\n",
       "    <tr>\n",
       "      <th>99</th>\n",
       "      <td>현대중공업</td>\n",
       "      <td>IM1</td>\n",
       "      <td>2 감사인 감리 대상 개별감사업무 선정</td>\n",
       "      <td>2</td>\n",
       "    </tr>\n",
       "  </tbody>\n",
       "</table>\n",
       "<p>100 rows × 4 columns</p>\n",
       "</div>"
      ],
      "text/plain": [
       "   engagement   LoB              rsk_idx_1  risk_index\n",
       "0      BGF리테일   CM2             1 감리위험요소평가           0\n",
       "1      BGF리테일   CM2  2 감사인 감리 대상 개별감사업무 선정           1\n",
       "2      CJ CGV  ICE2             1 감리위험요소평가           4\n",
       "3      CJ CGV  ICE2  2 감사인 감리 대상 개별감사업무 선정           2\n",
       "4        HD현대   IM1             1 감리위험요소평가           1\n",
       "..        ...   ...                    ...         ...\n",
       "95         한진   IM3  2 감사인 감리 대상 개별감사업무 선정           0\n",
       "96      한화솔루션   IM1             1 감리위험요소평가           1\n",
       "97      한화솔루션   IM1  2 감사인 감리 대상 개별감사업무 선정           0\n",
       "98      현대중공업   IM1             1 감리위험요소평가           3\n",
       "99      현대중공업   IM1  2 감사인 감리 대상 개별감사업무 선정           2\n",
       "\n",
       "[100 rows x 4 columns]"
      ]
     },
     "execution_count": 52,
     "metadata": {},
     "output_type": "execute_result"
    }
   ],
   "source": [
    "df = rsk_assmnt.groupby(['engagement','LoB','rsk_idx_1'])['risk_index'].sum().reset_index()\n",
    "df"
   ]
  },
  {
   "cell_type": "code",
   "execution_count": 46,
   "metadata": {},
   "outputs": [
    {
     "data": {
      "text/html": [
       "<div>\n",
       "<style scoped>\n",
       "    .dataframe tbody tr th:only-of-type {\n",
       "        vertical-align: middle;\n",
       "    }\n",
       "\n",
       "    .dataframe tbody tr th {\n",
       "        vertical-align: top;\n",
       "    }\n",
       "\n",
       "    .dataframe thead th {\n",
       "        text-align: right;\n",
       "    }\n",
       "</style>\n",
       "<table border=\"1\" class=\"dataframe\">\n",
       "  <thead>\n",
       "    <tr style=\"text-align: right;\">\n",
       "      <th></th>\n",
       "      <th>engagement</th>\n",
       "      <th>LoB</th>\n",
       "      <th>rsk_idx_1</th>\n",
       "      <th>relevant</th>\n",
       "    </tr>\n",
       "  </thead>\n",
       "  <tbody>\n",
       "    <tr>\n",
       "      <th>2</th>\n",
       "      <td>CJ CGV</td>\n",
       "      <td>ICE2</td>\n",
       "      <td>1 감리위험요소평가</td>\n",
       "      <td>4</td>\n",
       "    </tr>\n",
       "    <tr>\n",
       "      <th>3</th>\n",
       "      <td>CJ CGV</td>\n",
       "      <td>ICE2</td>\n",
       "      <td>2 감사인 감리 대상 개별감사업무 선정</td>\n",
       "      <td>2</td>\n",
       "    </tr>\n",
       "    <tr>\n",
       "      <th>32</th>\n",
       "      <td>삼성SDI</td>\n",
       "      <td>ICE2</td>\n",
       "      <td>1 감리위험요소평가</td>\n",
       "      <td>0</td>\n",
       "    </tr>\n",
       "    <tr>\n",
       "      <th>33</th>\n",
       "      <td>삼성SDI</td>\n",
       "      <td>ICE2</td>\n",
       "      <td>2 감사인 감리 대상 개별감사업무 선정</td>\n",
       "      <td>0</td>\n",
       "    </tr>\n",
       "    <tr>\n",
       "      <th>44</th>\n",
       "      <td>에스디바이오센서</td>\n",
       "      <td>ICE2</td>\n",
       "      <td>1 감리위험요소평가</td>\n",
       "      <td>1</td>\n",
       "    </tr>\n",
       "    <tr>\n",
       "      <th>45</th>\n",
       "      <td>에스디바이오센서</td>\n",
       "      <td>ICE2</td>\n",
       "      <td>2 감사인 감리 대상 개별감사업무 선정</td>\n",
       "      <td>0</td>\n",
       "    </tr>\n",
       "    <tr>\n",
       "      <th>50</th>\n",
       "      <td>엔에이치엔</td>\n",
       "      <td>ICE2</td>\n",
       "      <td>1 감리위험요소평가</td>\n",
       "      <td>1</td>\n",
       "    </tr>\n",
       "    <tr>\n",
       "      <th>51</th>\n",
       "      <td>엔에이치엔</td>\n",
       "      <td>ICE2</td>\n",
       "      <td>2 감사인 감리 대상 개별감사업무 선정</td>\n",
       "      <td>0</td>\n",
       "    </tr>\n",
       "    <tr>\n",
       "      <th>76</th>\n",
       "      <td>크래프톤</td>\n",
       "      <td>ICE2</td>\n",
       "      <td>1 감리위험요소평가</td>\n",
       "      <td>1</td>\n",
       "    </tr>\n",
       "    <tr>\n",
       "      <th>77</th>\n",
       "      <td>크래프톤</td>\n",
       "      <td>ICE2</td>\n",
       "      <td>2 감사인 감리 대상 개별감사업무 선정</td>\n",
       "      <td>0</td>\n",
       "    </tr>\n",
       "  </tbody>\n",
       "</table>\n",
       "</div>"
      ],
      "text/plain": [
       "   engagement   LoB              rsk_idx_1  relevant\n",
       "2      CJ CGV  ICE2             1 감리위험요소평가         4\n",
       "3      CJ CGV  ICE2  2 감사인 감리 대상 개별감사업무 선정         2\n",
       "32      삼성SDI  ICE2             1 감리위험요소평가         0\n",
       "33      삼성SDI  ICE2  2 감사인 감리 대상 개별감사업무 선정         0\n",
       "44   에스디바이오센서  ICE2             1 감리위험요소평가         1\n",
       "45   에스디바이오센서  ICE2  2 감사인 감리 대상 개별감사업무 선정         0\n",
       "50      엔에이치엔  ICE2             1 감리위험요소평가         1\n",
       "51      엔에이치엔  ICE2  2 감사인 감리 대상 개별감사업무 선정         0\n",
       "76       크래프톤  ICE2             1 감리위험요소평가         1\n",
       "77       크래프톤  ICE2  2 감사인 감리 대상 개별감사업무 선정         0"
      ]
     },
     "execution_count": 46,
     "metadata": {},
     "output_type": "execute_result"
    }
   ],
   "source": [
    "a = 'ICE2'\n",
    "df[df['LoB']==a]"
   ]
  },
  {
   "cell_type": "code",
   "execution_count": 53,
   "metadata": {},
   "outputs": [
    {
     "data": {
      "application/vnd.plotly.v1+json": {
       "config": {
        "plotlyServerURL": "https://plot.ly"
       },
       "data": [
        {
         "alignmentgroup": "True",
         "hovertemplate": "rsk_idx_1=1 감리위험요소평가<br>LoB=%{x}<br>risk_index=%{y}<extra></extra>",
         "legendgroup": "1 감리위험요소평가",
         "marker": {
          "color": "#636efa"
         },
         "name": "1 감리위험요소평가",
         "notched": false,
         "offsetgroup": "1 감리위험요소평가",
         "orientation": "v",
         "showlegend": true,
         "type": "box",
         "x": [
          "CM2",
          "ICE2",
          "IM1",
          "IM3",
          "IM2",
          "IM4",
          "IGH",
          "IM1",
          "IM4",
          "ICE3",
          "ICE3",
          "IM3",
          "CM1",
          "CM1",
          "ICE3",
          "CM2",
          "ICE2",
          "IM4",
          "IGH",
          "CM1",
          "ICE1",
          "IM2",
          "ICE2",
          "ICE1",
          "CM2",
          "ICE2",
          "IM2",
          "ICE1",
          "IGH",
          "CM1",
          "ICE3",
          "IM4",
          "ICE1",
          "ICE1",
          "IM1",
          "CM1",
          "CM2",
          "CM2",
          "ICE2",
          "IM4",
          "ICE3",
          "IM2",
          "IM3",
          "IGH",
          "IGH",
          "IM3",
          "IM2",
          "IM3",
          "IM1",
          "IM1"
         ],
         "x0": " ",
         "xaxis": "x",
         "y": [
          0,
          4,
          1,
          2,
          0,
          2,
          0,
          1,
          1,
          1,
          0,
          2,
          0,
          3,
          1,
          1,
          0,
          1,
          1,
          0,
          2,
          0,
          1,
          0,
          2,
          1,
          1,
          2,
          1,
          0,
          1,
          1,
          1,
          6,
          2,
          2,
          0,
          0,
          1,
          2,
          1,
          2,
          1,
          3,
          1,
          5,
          1,
          1,
          1,
          3
         ],
         "y0": " ",
         "yaxis": "y"
        },
        {
         "alignmentgroup": "True",
         "hovertemplate": "rsk_idx_1=2 감사인 감리 대상 개별감사업무 선정<br>LoB=%{x}<br>risk_index=%{y}<extra></extra>",
         "legendgroup": "2 감사인 감리 대상 개별감사업무 선정",
         "marker": {
          "color": "#EF553B"
         },
         "name": "2 감사인 감리 대상 개별감사업무 선정",
         "notched": false,
         "offsetgroup": "2 감사인 감리 대상 개별감사업무 선정",
         "orientation": "v",
         "showlegend": true,
         "type": "box",
         "x": [
          "CM2",
          "ICE2",
          "IM1",
          "IM3",
          "IM2",
          "IM4",
          "IGH",
          "IM1",
          "IM4",
          "ICE3",
          "ICE3",
          "IM3",
          "CM1",
          "CM1",
          "ICE3",
          "CM2",
          "ICE2",
          "IM4",
          "IGH",
          "CM1",
          "ICE1",
          "IM2",
          "ICE2",
          "ICE1",
          "CM2",
          "ICE2",
          "IM2",
          "ICE1",
          "IGH",
          "CM1",
          "ICE3",
          "IM4",
          "ICE1",
          "ICE1",
          "IM1",
          "CM1",
          "CM2",
          "CM2",
          "ICE2",
          "IM4",
          "ICE3",
          "IM2",
          "IM3",
          "IGH",
          "IGH",
          "IM3",
          "IM2",
          "IM3",
          "IM1",
          "IM1"
         ],
         "x0": " ",
         "xaxis": "x",
         "y": [
          1,
          2,
          0,
          0,
          1,
          0,
          1,
          0,
          0,
          0,
          0,
          0,
          0,
          0,
          0,
          0,
          0,
          1,
          1,
          1,
          0,
          0,
          0,
          0,
          0,
          0,
          0,
          0,
          1,
          0,
          0,
          0,
          0,
          1,
          1,
          0,
          0,
          0,
          0,
          1,
          2,
          0,
          1,
          0,
          1,
          0,
          0,
          0,
          0,
          2
         ],
         "y0": " ",
         "yaxis": "y"
        }
       ],
       "layout": {
        "boxmode": "group",
        "legend": {
         "title": {
          "text": "rsk_idx_1"
         },
         "tracegroupgap": 0
        },
        "margin": {
         "t": 60
        },
        "template": {
         "data": {
          "bar": [
           {
            "error_x": {
             "color": "#2a3f5f"
            },
            "error_y": {
             "color": "#2a3f5f"
            },
            "marker": {
             "line": {
              "color": "#E5ECF6",
              "width": 0.5
             },
             "pattern": {
              "fillmode": "overlay",
              "size": 10,
              "solidity": 0.2
             }
            },
            "type": "bar"
           }
          ],
          "barpolar": [
           {
            "marker": {
             "line": {
              "color": "#E5ECF6",
              "width": 0.5
             },
             "pattern": {
              "fillmode": "overlay",
              "size": 10,
              "solidity": 0.2
             }
            },
            "type": "barpolar"
           }
          ],
          "carpet": [
           {
            "aaxis": {
             "endlinecolor": "#2a3f5f",
             "gridcolor": "white",
             "linecolor": "white",
             "minorgridcolor": "white",
             "startlinecolor": "#2a3f5f"
            },
            "baxis": {
             "endlinecolor": "#2a3f5f",
             "gridcolor": "white",
             "linecolor": "white",
             "minorgridcolor": "white",
             "startlinecolor": "#2a3f5f"
            },
            "type": "carpet"
           }
          ],
          "choropleth": [
           {
            "colorbar": {
             "outlinewidth": 0,
             "ticks": ""
            },
            "type": "choropleth"
           }
          ],
          "contour": [
           {
            "colorbar": {
             "outlinewidth": 0,
             "ticks": ""
            },
            "colorscale": [
             [
              0,
              "#0d0887"
             ],
             [
              0.1111111111111111,
              "#46039f"
             ],
             [
              0.2222222222222222,
              "#7201a8"
             ],
             [
              0.3333333333333333,
              "#9c179e"
             ],
             [
              0.4444444444444444,
              "#bd3786"
             ],
             [
              0.5555555555555556,
              "#d8576b"
             ],
             [
              0.6666666666666666,
              "#ed7953"
             ],
             [
              0.7777777777777778,
              "#fb9f3a"
             ],
             [
              0.8888888888888888,
              "#fdca26"
             ],
             [
              1,
              "#f0f921"
             ]
            ],
            "type": "contour"
           }
          ],
          "contourcarpet": [
           {
            "colorbar": {
             "outlinewidth": 0,
             "ticks": ""
            },
            "type": "contourcarpet"
           }
          ],
          "heatmap": [
           {
            "colorbar": {
             "outlinewidth": 0,
             "ticks": ""
            },
            "colorscale": [
             [
              0,
              "#0d0887"
             ],
             [
              0.1111111111111111,
              "#46039f"
             ],
             [
              0.2222222222222222,
              "#7201a8"
             ],
             [
              0.3333333333333333,
              "#9c179e"
             ],
             [
              0.4444444444444444,
              "#bd3786"
             ],
             [
              0.5555555555555556,
              "#d8576b"
             ],
             [
              0.6666666666666666,
              "#ed7953"
             ],
             [
              0.7777777777777778,
              "#fb9f3a"
             ],
             [
              0.8888888888888888,
              "#fdca26"
             ],
             [
              1,
              "#f0f921"
             ]
            ],
            "type": "heatmap"
           }
          ],
          "heatmapgl": [
           {
            "colorbar": {
             "outlinewidth": 0,
             "ticks": ""
            },
            "colorscale": [
             [
              0,
              "#0d0887"
             ],
             [
              0.1111111111111111,
              "#46039f"
             ],
             [
              0.2222222222222222,
              "#7201a8"
             ],
             [
              0.3333333333333333,
              "#9c179e"
             ],
             [
              0.4444444444444444,
              "#bd3786"
             ],
             [
              0.5555555555555556,
              "#d8576b"
             ],
             [
              0.6666666666666666,
              "#ed7953"
             ],
             [
              0.7777777777777778,
              "#fb9f3a"
             ],
             [
              0.8888888888888888,
              "#fdca26"
             ],
             [
              1,
              "#f0f921"
             ]
            ],
            "type": "heatmapgl"
           }
          ],
          "histogram": [
           {
            "marker": {
             "pattern": {
              "fillmode": "overlay",
              "size": 10,
              "solidity": 0.2
             }
            },
            "type": "histogram"
           }
          ],
          "histogram2d": [
           {
            "colorbar": {
             "outlinewidth": 0,
             "ticks": ""
            },
            "colorscale": [
             [
              0,
              "#0d0887"
             ],
             [
              0.1111111111111111,
              "#46039f"
             ],
             [
              0.2222222222222222,
              "#7201a8"
             ],
             [
              0.3333333333333333,
              "#9c179e"
             ],
             [
              0.4444444444444444,
              "#bd3786"
             ],
             [
              0.5555555555555556,
              "#d8576b"
             ],
             [
              0.6666666666666666,
              "#ed7953"
             ],
             [
              0.7777777777777778,
              "#fb9f3a"
             ],
             [
              0.8888888888888888,
              "#fdca26"
             ],
             [
              1,
              "#f0f921"
             ]
            ],
            "type": "histogram2d"
           }
          ],
          "histogram2dcontour": [
           {
            "colorbar": {
             "outlinewidth": 0,
             "ticks": ""
            },
            "colorscale": [
             [
              0,
              "#0d0887"
             ],
             [
              0.1111111111111111,
              "#46039f"
             ],
             [
              0.2222222222222222,
              "#7201a8"
             ],
             [
              0.3333333333333333,
              "#9c179e"
             ],
             [
              0.4444444444444444,
              "#bd3786"
             ],
             [
              0.5555555555555556,
              "#d8576b"
             ],
             [
              0.6666666666666666,
              "#ed7953"
             ],
             [
              0.7777777777777778,
              "#fb9f3a"
             ],
             [
              0.8888888888888888,
              "#fdca26"
             ],
             [
              1,
              "#f0f921"
             ]
            ],
            "type": "histogram2dcontour"
           }
          ],
          "mesh3d": [
           {
            "colorbar": {
             "outlinewidth": 0,
             "ticks": ""
            },
            "type": "mesh3d"
           }
          ],
          "parcoords": [
           {
            "line": {
             "colorbar": {
              "outlinewidth": 0,
              "ticks": ""
             }
            },
            "type": "parcoords"
           }
          ],
          "pie": [
           {
            "automargin": true,
            "type": "pie"
           }
          ],
          "scatter": [
           {
            "marker": {
             "colorbar": {
              "outlinewidth": 0,
              "ticks": ""
             }
            },
            "type": "scatter"
           }
          ],
          "scatter3d": [
           {
            "line": {
             "colorbar": {
              "outlinewidth": 0,
              "ticks": ""
             }
            },
            "marker": {
             "colorbar": {
              "outlinewidth": 0,
              "ticks": ""
             }
            },
            "type": "scatter3d"
           }
          ],
          "scattercarpet": [
           {
            "marker": {
             "colorbar": {
              "outlinewidth": 0,
              "ticks": ""
             }
            },
            "type": "scattercarpet"
           }
          ],
          "scattergeo": [
           {
            "marker": {
             "colorbar": {
              "outlinewidth": 0,
              "ticks": ""
             }
            },
            "type": "scattergeo"
           }
          ],
          "scattergl": [
           {
            "marker": {
             "colorbar": {
              "outlinewidth": 0,
              "ticks": ""
             }
            },
            "type": "scattergl"
           }
          ],
          "scattermapbox": [
           {
            "marker": {
             "colorbar": {
              "outlinewidth": 0,
              "ticks": ""
             }
            },
            "type": "scattermapbox"
           }
          ],
          "scatterpolar": [
           {
            "marker": {
             "colorbar": {
              "outlinewidth": 0,
              "ticks": ""
             }
            },
            "type": "scatterpolar"
           }
          ],
          "scatterpolargl": [
           {
            "marker": {
             "colorbar": {
              "outlinewidth": 0,
              "ticks": ""
             }
            },
            "type": "scatterpolargl"
           }
          ],
          "scatterternary": [
           {
            "marker": {
             "colorbar": {
              "outlinewidth": 0,
              "ticks": ""
             }
            },
            "type": "scatterternary"
           }
          ],
          "surface": [
           {
            "colorbar": {
             "outlinewidth": 0,
             "ticks": ""
            },
            "colorscale": [
             [
              0,
              "#0d0887"
             ],
             [
              0.1111111111111111,
              "#46039f"
             ],
             [
              0.2222222222222222,
              "#7201a8"
             ],
             [
              0.3333333333333333,
              "#9c179e"
             ],
             [
              0.4444444444444444,
              "#bd3786"
             ],
             [
              0.5555555555555556,
              "#d8576b"
             ],
             [
              0.6666666666666666,
              "#ed7953"
             ],
             [
              0.7777777777777778,
              "#fb9f3a"
             ],
             [
              0.8888888888888888,
              "#fdca26"
             ],
             [
              1,
              "#f0f921"
             ]
            ],
            "type": "surface"
           }
          ],
          "table": [
           {
            "cells": {
             "fill": {
              "color": "#EBF0F8"
             },
             "line": {
              "color": "white"
             }
            },
            "header": {
             "fill": {
              "color": "#C8D4E3"
             },
             "line": {
              "color": "white"
             }
            },
            "type": "table"
           }
          ]
         },
         "layout": {
          "annotationdefaults": {
           "arrowcolor": "#2a3f5f",
           "arrowhead": 0,
           "arrowwidth": 1
          },
          "autotypenumbers": "strict",
          "coloraxis": {
           "colorbar": {
            "outlinewidth": 0,
            "ticks": ""
           }
          },
          "colorscale": {
           "diverging": [
            [
             0,
             "#8e0152"
            ],
            [
             0.1,
             "#c51b7d"
            ],
            [
             0.2,
             "#de77ae"
            ],
            [
             0.3,
             "#f1b6da"
            ],
            [
             0.4,
             "#fde0ef"
            ],
            [
             0.5,
             "#f7f7f7"
            ],
            [
             0.6,
             "#e6f5d0"
            ],
            [
             0.7,
             "#b8e186"
            ],
            [
             0.8,
             "#7fbc41"
            ],
            [
             0.9,
             "#4d9221"
            ],
            [
             1,
             "#276419"
            ]
           ],
           "sequential": [
            [
             0,
             "#0d0887"
            ],
            [
             0.1111111111111111,
             "#46039f"
            ],
            [
             0.2222222222222222,
             "#7201a8"
            ],
            [
             0.3333333333333333,
             "#9c179e"
            ],
            [
             0.4444444444444444,
             "#bd3786"
            ],
            [
             0.5555555555555556,
             "#d8576b"
            ],
            [
             0.6666666666666666,
             "#ed7953"
            ],
            [
             0.7777777777777778,
             "#fb9f3a"
            ],
            [
             0.8888888888888888,
             "#fdca26"
            ],
            [
             1,
             "#f0f921"
            ]
           ],
           "sequentialminus": [
            [
             0,
             "#0d0887"
            ],
            [
             0.1111111111111111,
             "#46039f"
            ],
            [
             0.2222222222222222,
             "#7201a8"
            ],
            [
             0.3333333333333333,
             "#9c179e"
            ],
            [
             0.4444444444444444,
             "#bd3786"
            ],
            [
             0.5555555555555556,
             "#d8576b"
            ],
            [
             0.6666666666666666,
             "#ed7953"
            ],
            [
             0.7777777777777778,
             "#fb9f3a"
            ],
            [
             0.8888888888888888,
             "#fdca26"
            ],
            [
             1,
             "#f0f921"
            ]
           ]
          },
          "colorway": [
           "#636efa",
           "#EF553B",
           "#00cc96",
           "#ab63fa",
           "#FFA15A",
           "#19d3f3",
           "#FF6692",
           "#B6E880",
           "#FF97FF",
           "#FECB52"
          ],
          "font": {
           "color": "#2a3f5f"
          },
          "geo": {
           "bgcolor": "white",
           "lakecolor": "white",
           "landcolor": "#E5ECF6",
           "showlakes": true,
           "showland": true,
           "subunitcolor": "white"
          },
          "hoverlabel": {
           "align": "left"
          },
          "hovermode": "closest",
          "mapbox": {
           "style": "light"
          },
          "paper_bgcolor": "white",
          "plot_bgcolor": "#E5ECF6",
          "polar": {
           "angularaxis": {
            "gridcolor": "white",
            "linecolor": "white",
            "ticks": ""
           },
           "bgcolor": "#E5ECF6",
           "radialaxis": {
            "gridcolor": "white",
            "linecolor": "white",
            "ticks": ""
           }
          },
          "scene": {
           "xaxis": {
            "backgroundcolor": "#E5ECF6",
            "gridcolor": "white",
            "gridwidth": 2,
            "linecolor": "white",
            "showbackground": true,
            "ticks": "",
            "zerolinecolor": "white"
           },
           "yaxis": {
            "backgroundcolor": "#E5ECF6",
            "gridcolor": "white",
            "gridwidth": 2,
            "linecolor": "white",
            "showbackground": true,
            "ticks": "",
            "zerolinecolor": "white"
           },
           "zaxis": {
            "backgroundcolor": "#E5ECF6",
            "gridcolor": "white",
            "gridwidth": 2,
            "linecolor": "white",
            "showbackground": true,
            "ticks": "",
            "zerolinecolor": "white"
           }
          },
          "shapedefaults": {
           "line": {
            "color": "#2a3f5f"
           }
          },
          "ternary": {
           "aaxis": {
            "gridcolor": "white",
            "linecolor": "white",
            "ticks": ""
           },
           "baxis": {
            "gridcolor": "white",
            "linecolor": "white",
            "ticks": ""
           },
           "bgcolor": "#E5ECF6",
           "caxis": {
            "gridcolor": "white",
            "linecolor": "white",
            "ticks": ""
           }
          },
          "title": {
           "x": 0.05
          },
          "xaxis": {
           "automargin": true,
           "gridcolor": "white",
           "linecolor": "white",
           "ticks": "",
           "title": {
            "standoff": 15
           },
           "zerolinecolor": "white",
           "zerolinewidth": 2
          },
          "yaxis": {
           "automargin": true,
           "gridcolor": "white",
           "linecolor": "white",
           "ticks": "",
           "title": {
            "standoff": 15
           },
           "zerolinecolor": "white",
           "zerolinewidth": 2
          }
         }
        },
        "xaxis": {
         "anchor": "y",
         "domain": [
          0,
          1
         ],
         "title": {
          "text": "LoB"
         }
        },
        "yaxis": {
         "anchor": "x",
         "domain": [
          0,
          1
         ],
         "title": {
          "text": "risk_index"
         }
        }
       }
      }
     },
     "metadata": {},
     "output_type": "display_data"
    }
   ],
   "source": [
    "fig = px.box(df , x = 'LoB', y = 'risk_index', color = 'rsk_idx_1')\n",
    "fig.show()"
   ]
  },
  {
   "cell_type": "code",
   "execution_count": null,
   "metadata": {},
   "outputs": [],
   "source": []
  }
 ],
 "metadata": {
  "kernelspec": {
   "display_name": "base",
   "language": "python",
   "name": "python3"
  },
  "language_info": {
   "codemirror_mode": {
    "name": "ipython",
    "version": 3
   },
   "file_extension": ".py",
   "mimetype": "text/x-python",
   "name": "python",
   "nbconvert_exporter": "python",
   "pygments_lexer": "ipython3",
   "version": "3.9.12"
  },
  "orig_nbformat": 4,
  "vscode": {
   "interpreter": {
    "hash": "14916058e8d50e5f24d160b1844c66a31f5bd17d4e62350444d425e7c2791bfa"
   }
  }
 },
 "nbformat": 4,
 "nbformat_minor": 2
}
